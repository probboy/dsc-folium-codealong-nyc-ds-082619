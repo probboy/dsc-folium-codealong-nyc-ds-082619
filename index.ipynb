{
 "cells": [
  {
   "cell_type": "markdown",
   "metadata": {},
   "source": [
    "# Folium - Codealong\n",
    "\n",
    "## Introduction \n",
    "\n",
    "In this codealong, we'll take a look at how to create an interactive map using the Folium package. From there, we'll return to APIs in the final lab for the day where you'll make an interactive map from your requests to the API!\n",
    "\n",
    "## Objectives\n",
    "\n",
    "You will be able to: \n",
    "* Create maps with Folium"
   ]
  },
  {
   "cell_type": "markdown",
   "metadata": {},
   "source": [
    "## Creating a Basemap\n",
    "\n",
    "Here we'll take a look at creating a basemap over the London region!"
   ]
  },
  {
   "cell_type": "code",
   "execution_count": 1,
   "metadata": {
    "scrolled": false
   },
   "outputs": [
    {
     "data": {
      "text/html": [
       "<div style=\"width:100%;\"><div style=\"position:relative;width:100%;height:0;padding-bottom:60%;\"><iframe src=\"data:text/html;charset=utf-8;base64,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\" style=\"position:absolute;width:100%;height:100%;left:0;top:0;border:none !important;\" allowfullscreen webkitallowfullscreen mozallowfullscreen></iframe></div></div>"
      ],
      "text/plain": [
       "<folium.folium.Map at 0x7f17a9232cc0>"
      ]
     },
     "execution_count": 1,
     "metadata": {},
     "output_type": "execute_result"
    }
   ],
   "source": [
    "import folium\n",
    "\n",
    "lat = 51.51\n",
    "long = -0.14\n",
    "\n",
    "#Create a map of the area\n",
    "base_map = folium.Map([lat, long], zoom_start=13)\n",
    "base_map"
   ]
  },
  {
   "cell_type": "markdown",
   "metadata": {},
   "source": [
    "## Adding Markers to the Map\n",
    "\n",
    "Great! Now let's take a look at adding little markers to our map!\n",
    "\n",
    "**Note:** you may have to zoom out to see all of the markers!"
   ]
  },
  {
   "cell_type": "code",
   "execution_count": 2,
   "metadata": {},
   "outputs": [
    {
     "data": {
      "text/html": [
       "<div style=\"width:100%;\"><div style=\"position:relative;width:100%;height:0;padding-bottom:60%;\"><iframe src=\"data:text/html;charset=utf-8;base64,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\" style=\"position:absolute;width:100%;height:100%;left:0;top:0;border:none !important;\" allowfullscreen webkitallowfullscreen mozallowfullscreen></iframe></div></div>"
      ],
      "text/plain": [
       "<folium.folium.Map at 0x7f17a9232cc0>"
      ]
     },
     "execution_count": 2,
     "metadata": {},
     "output_type": "execute_result"
    }
   ],
   "source": [
    "import numpy as np\n",
    "\n",
    "#Generate some random locations to add to our map\n",
    "x = [lat + np.random.uniform(-.1,.1) for i in range(20)]\n",
    "y = [long + np.random.uniform(-.1,.1) for i in range(20)]\n",
    "points = list(zip(x, y))\n",
    "for p in points:\n",
    "    lat = p[0]\n",
    "    long = p[1]\n",
    "    marker = folium.Marker(location=[lat, long])\n",
    "    marker.add_to(base_map)\n",
    "base_map"
   ]
  },
  {
   "cell_type": "markdown",
   "metadata": {},
   "source": [
    "## Adding Pop-up Boxes to Our Markers\n",
    "\n",
    "Often we may wish to not only place markers on the map, but to create interactive pop-ups which display information to that location. To do this, we can add a popup to our markers when adding them to the map! "
   ]
  },
  {
   "cell_type": "code",
   "execution_count": null,
   "metadata": {},
   "outputs": [],
   "source": [
    "for p in points:\n",
    "    lat = p[0]\n",
    "    long = p[1]\n",
    "    popup_text = \"Latitude: {}, Longitude: {}\".format(lat,long)\n",
    "    popup = folium.Popup(popup_text, parse_html=True)\n",
    "    marker = folium.Marker(location=[lat, long], popup=popup)\n",
    "    marker.add_to(base_map)\n",
    "base_map"
   ]
  },
  {
   "cell_type": "markdown",
   "metadata": {},
   "source": [
    "Now, if you click on the map markers, you should see a little information box pop up!\n",
    "\n",
    "## Summary \n",
    "\n",
    "In this codealong, we learned how to use Folium to create some cool interactive maps with only a few lines of python code! In the next lab, you'll synthesize your skills for the day together and create an interactive visualization map for data you retrieve from the Yelp API!"
   ]
  }
 ],
 "metadata": {
  "kernelspec": {
   "display_name": "Python 3",
   "language": "python",
   "name": "python3"
  },
  "language_info": {
   "codemirror_mode": {
    "name": "ipython",
    "version": 3
   },
   "file_extension": ".py",
   "mimetype": "text/x-python",
   "name": "python",
   "nbconvert_exporter": "python",
   "pygments_lexer": "ipython3",
   "version": "3.6.6"
  }
 },
 "nbformat": 4,
 "nbformat_minor": 2
}
